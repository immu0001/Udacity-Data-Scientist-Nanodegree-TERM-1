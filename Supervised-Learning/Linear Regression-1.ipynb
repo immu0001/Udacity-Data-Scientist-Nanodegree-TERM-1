{
 "cells": [
  {
   "cell_type": "code",
   "execution_count": 71,
   "metadata": {},
   "outputs": [],
   "source": [
    "import pandas as pd\n",
    "import numpy as np\n",
    "from sklearn.linear_model import LinearRegression\n",
    "\n",
    "bmi_life_data = pd.read_csv(\"1.csv\")\n",
    "bmi_life_data\n",
    "\n",
    "\n",
    "\n",
    "X = np.array((bmi_life_data['BMI'])).reshape(-1,1)\n",
    "y = np.array((bmi_life_data['Life expectancy'])).reshape(-1,1)\n",
    "\n",
    "q = np.array([21.07931])"
   ]
  },
  {
   "cell_type": "code",
   "execution_count": 95,
   "metadata": {},
   "outputs": [
    {
     "data": {
      "text/plain": [
       "LinearRegression(copy_X=True, fit_intercept=True, n_jobs=None, normalize=False)"
      ]
     },
     "execution_count": 95,
     "metadata": {},
     "output_type": "execute_result"
    }
   ],
   "source": [
    "bmi_life_model = LinearRegression()\n",
    "bmi_life_model.fit(X, y)"
   ]
  },
  {
   "cell_type": "code",
   "execution_count": 96,
   "metadata": {},
   "outputs": [
    {
     "name": "stdout",
     "output_type": "stream",
     "text": [
      "[7.22783834]\n",
      "[[2.51847944]]\n"
     ]
    }
   ],
   "source": [
    "# TODO: Predict life expectancy for a BMI value of 21.07931\n",
    "print(bmi_life_model.intercept_)\n",
    "print(bmi_life_model.coef_)"
   ]
  },
  {
   "cell_type": "code",
   "execution_count": 97,
   "metadata": {},
   "outputs": [
    {
     "name": "stdout",
     "output_type": "stream",
     "text": [
      "          0\n",
      "0  21.07931\n"
     ]
    }
   ],
   "source": [
    "w = pd.DataFrame(q)\n",
    "print(w)"
   ]
  },
  {
   "cell_type": "code",
   "execution_count": 98,
   "metadata": {},
   "outputs": [
    {
     "name": "stdout",
     "output_type": "stream",
     "text": [
      "[[60.31564716]]\n"
     ]
    }
   ],
   "source": [
    "predicted_value = bmi_life_model.predict(w);\n",
    "print(predicted_value)"
   ]
  },
  {
   "cell_type": "code",
   "execution_count": null,
   "metadata": {},
   "outputs": [],
   "source": []
  }
 ],
 "metadata": {
  "kernelspec": {
   "display_name": "Python 3",
   "language": "python",
   "name": "python3"
  },
  "language_info": {
   "codemirror_mode": {
    "name": "ipython",
    "version": 3
   },
   "file_extension": ".py",
   "mimetype": "text/x-python",
   "name": "python",
   "nbconvert_exporter": "python",
   "pygments_lexer": "ipython3",
   "version": "3.7.3"
  }
 },
 "nbformat": 4,
 "nbformat_minor": 4
}
