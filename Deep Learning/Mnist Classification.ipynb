{
 "cells": [
  {
   "cell_type": "markdown",
   "metadata": {},
   "source": [
    "# Classifying Fashion MNIST\n",
    "\n",
    "## Check for GPU or CPU!?"
   ]
  },
  {
   "cell_type": "code",
   "execution_count": 13,
   "metadata": {},
   "outputs": [
    {
     "name": "stdout",
     "output_type": "stream",
     "text": [
      "False\n",
      "cpu\n"
     ]
    }
   ],
   "source": [
    "import torch\n",
    "print(torch.cuda.is_available())\n",
    "device = torch.device(\"cuda:0\" if torch.cuda.is_available() else \"cpu\")\n",
    "print(device)"
   ]
  },
  {
   "cell_type": "code",
   "execution_count": null,
   "metadata": {},
   "outputs": [
    {
     "name": "stderr",
     "output_type": "stream",
     "text": [
      "\n",
      "\n",
      "\n",
      "26427392it [00:28, 2532339.70it/s]                              \u001b[A\u001b[A\u001b[A"
     ]
    }
   ],
   "source": [
    "import torch\n",
    "from torchvision import datasets, transforms\n",
    "import helper\n",
    "\n",
    "# Instructions from here:\n",
    "# https://www.kaggle.com/ishvindersethi22/fashion-mnist-using-pytorch/data\n",
    "\n",
    "# Define a transform to normalize the data\n",
    "transform = transforms.Compose([transforms.ToTensor(),\n",
    "                                transforms.Normalize([0.], [0.5])])\n",
    "# Download and load the training data\n",
    "trainset = datasets.FashionMNIST('~/.pytorch/MNIST_data/', download=True, train=True, transform=transform)\n",
    "trainloader = torch.utils.data.DataLoader(trainset, batch_size=64, shuffle=True)\n",
    "\n",
    "# Download and load the test data\n",
    "testset = datasets.FashionMNIST('~/.pytorch/MNIST_data/', download=True, train=False, transform=transform)\n",
    "testloader = torch.utils.data.DataLoader(testset, batch_size=64, shuffle=True)\n"
   ]
  },
  {
   "cell_type": "code",
   "execution_count": 15,
   "metadata": {},
   "outputs": [
    {
     "data": {
      "image/png": "[encoded data removed]",
      "text/plain": [
       "<Figure size 432x288 with 1 Axes>"
      ]
     },
     "metadata": {
      "needs_background": "light"
     },
     "output_type": "display_data"
    }
   ],
   "source": [
    "import matplotlib.pyplot as plt\n",
    "import torchvision\n",
    "import numpy as np\n",
    "\n",
    "def imshow(img):\n",
    "    img = img / 2 + 0.     # unnormalize\n",
    "    img = img.squeeze()\n",
    "    plt.imshow(img, cmap='gray')\n",
    "    \n",
    "images, label = next(iter(trainloader))\n",
    "imshow(images[0, :])\n"
   ]
  },
  {
   "cell_type": "markdown",
   "metadata": {},
   "source": [
    "# Define and train the network"
   ]
  },
  {
   "cell_type": "code",
   "execution_count": 16,
   "metadata": {},
   "outputs": [
    {
     "name": "stdout",
     "output_type": "stream",
     "text": [
      "0 Training loss: 0.4939731030639555\n",
      "1 Training loss: 0.3746613796347621\n",
      "2 Training loss: 0.35785431454557853\n",
      "3 Training loss: 0.34818224168058903\n",
      "4 Training loss: 0.34039132460665855\n",
      "5 Training loss: 0.3382239228388521\n",
      "6 Training loss: 0.3307722770313083\n",
      "7 Training loss: 0.32912019096108386\n",
      "8 Training loss: 0.3270530810853693\n",
      "9 Training loss: 0.32475298651055234\n"
     ]
    }
   ],
   "source": [
    "from collections import OrderedDict\n",
    "from torch import optim, nn\n",
    "\n",
    "hidden_units = [4, 8, 16]\n",
    "output_units = 10\n",
    "\n",
    "class Flatten(nn.Module):\n",
    "  def forward(self, input):\n",
    "    return input.view(input.size(0), -1)\n",
    "\n",
    "model_d = nn.Sequential(OrderedDict([\n",
    "    ('conv1', nn.Conv2d(1, hidden_units[0], 3, stride=2, padding=1)),\n",
    "    ('Relu1', nn.ReLU()),\n",
    "    ('conv2', nn.Conv2d(hidden_units[0], hidden_units[1], 3, stride=2, padding=1)),\n",
    "    ('Relu2', nn.ReLU()),\n",
    "    ('conv3', nn.Conv2d(hidden_units[1], hidden_units[2], 3, stride=2, padding=1)),\n",
    "    ('Relu3', nn.ReLU()),\n",
    "    ('conv4', nn.Conv2d(hidden_units[2], output_units, 4, stride=4, padding=0)),\n",
    "    ('log_softmax', nn.LogSoftmax(dim = 1))\n",
    "]))\n",
    "model_d.to(device)\n",
    "optimizer_d = optim.Adam(model_d.parameters(), lr = 0.01)\n",
    "\n",
    "criterion = nn.NLLLoss()\n",
    "epochs = 10\n",
    "for i in range(epochs):\n",
    "  running_classification_loss = 0\n",
    "  running_cycle_consistent_loss = 0\n",
    "  running_loss = 0\n",
    "  for images, labels in trainloader:\n",
    "    images, labels = images.to(device), labels.to(device)\n",
    "    optimizer_d.zero_grad()\n",
    "    \n",
    "    # Run classification model\n",
    "    predicted_labels = model_d(images)\n",
    "    classification_loss = criterion(Flatten()(predicted_labels), labels)\n",
    "    \n",
    "    # Optimize classification weights\n",
    "    classification_loss.backward()\n",
    "    optimizer_d.step()\n",
    "    \n",
    "    running_classification_loss += classification_loss.item()\n",
    "    running_loss = running_classification_loss\n",
    "  else:\n",
    "    print(f\"{i} Training loss: {running_loss/len(trainloader)}\")\n"
   ]
  },
  {
   "cell_type": "markdown",
   "metadata": {},
   "source": [
    "# Evaluate the network"
   ]
  },
  {
   "cell_type": "code",
   "execution_count": 17,
   "metadata": {},
   "outputs": [
    {
     "name": "stdout",
     "output_type": "stream",
     "text": [
      "Accuracy: 0.8725\n",
      "Correct Label: 5\n",
      "Predicted Label: 5\n"
     ]
    },
    {
     "data": {
      "image/png": "[encoded data removed]",
      "text/plain": [
       "<Figure size 432x288 with 1 Axes>"
      ]
     },
     "metadata": {
      "needs_background": "light"
     },
     "output_type": "display_data"
    }
   ],
   "source": [
    "total_correct = 0\n",
    "total_num = 0\n",
    "for images, labels in testloader:\n",
    "  images, labels = images.to(device), labels.to(device) \n",
    "  ps = Flatten()(torch.exp(model_d(images)))\n",
    "  predictions = ps.topk(1, 1, True, True)[1].t()\n",
    "  correct = predictions.eq(labels.view(1, -1))\n",
    "  \n",
    "  total_correct += correct.sum().cpu().numpy()\n",
    "  total_num += images.shape[0]\n",
    "  \n",
    "print('Accuracy:', total_correct / float(total_num))\n",
    "\n",
    "print('Correct Label:', labels[0].item())\n",
    "print('Predicted Label:', predictions[0, 0].item())\n",
    "index = 0\n",
    "imshow(images[index, :].cpu())"
   ]
  },
  {
   "cell_type": "markdown",
   "metadata": {},
   "source": [
    "# This notebook demonstrates all the working parts of an Image Classification network.\n",
    "## 1.We load the Fashion MNIST dataset\n",
    "\n",
    "## 2.Define a simple Deep Convolutional Network\n",
    "\n",
    "## 3.We optimize the network weights using the Adam optimizer on the GPU\n",
    "\n",
    "## 4.We evaluate the network and achieve an accuracy of approximately 85%"
   ]
  },
  {
   "cell_type": "code",
   "execution_count": null,
   "metadata": {},
   "outputs": [],
   "source": []
  }
 ],
 "metadata": {
  "kernelspec": {
   "display_name": "Python 3",
   "language": "python",
   "name": "python3"
  },
  "language_info": {
   "codemirror_mode": {
    "name": "ipython",
    "version": 3
   },
   "file_extension": ".py",
   "mimetype": "text/x-python",
   "name": "python",
   "nbconvert_exporter": "python",
   "pygments_lexer": "ipython3",
   "version": "3.7.4"
  }
 },
 "nbformat": 4,
 "nbformat_minor": 4
}
